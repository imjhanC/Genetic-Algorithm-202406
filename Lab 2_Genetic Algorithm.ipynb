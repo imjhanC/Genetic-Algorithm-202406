{
 "cells": [
  {
   "cell_type": "markdown",
   "id": "19195cbc",
   "metadata": {},
   "source": [
    "# Artificial Intelligence\n",
    "## UEMH3073 / UECS2053 / UECS2153\n",
    "\n",
    "# Lab 2: Genetic Algorithm"
   ]
  },
  {
   "cell_type": "markdown",
   "id": "357d953f",
   "metadata": {},
   "source": [
    "This notebook is an assignment requiring you to investigate the Travelling Salesman Problem. Guidance is provided so you can understand what needs to be done for this assignment as you follow through this lab. Convenience classes and functions/ methods are provided.\n",
    "\n",
    "You will encounter #TODO in the code cells explaining tasks you need to complete. In other words, you will need to write codes and accomplish the #TODO tasks so that the genetic algorithm functions well and runs correctly. Look for \"Replacement starts here\" and \"Replacement ends here\" to know the parts of the codes requiring your inputs.\n",
    "    \n",
    "\n",
    "The #TODO tasks and their marks distribution are as follows:\n",
    " \n",
    "a. #TODO1 (10 marks) in the Population Initialization function. You will read a set of cities from the filename when creating an initial population. \n",
    "\n",
    "b. #TODO2 (10 marks) in the Parent Selection function. You will replace a dummy parent selection function with Tournament Selection. \n",
    "\n",
    "c. #TODO3 (10 marks) in the Parent Selection function. You will replace a dummy parent selection function with Proportional Selection.\n",
    "\n",
    "d. #TODO4 (10 marks) in the Survival Selection function. You will replace the dummy survival selection function with Merge, Sort & Truncate. \n",
    "    \n",
    "e. #TODO5 (10 marks) in the Crossover function. You will replace the dummy crossover function the Partially Mapped Crossover approach.\n",
    "\n",
    "f. #TODO6 (10 marks) in the Mutation function. You will replace the dummy mutation function with Insertion Mutation approach. \n",
    "\n",
    "g. #TODO7 (10 marks) in Performance Evaluation. You will present performance evaluation for the different Parent Selection functions. \n",
    "\n",
    "Marks are also given for: Report Presentation and Formatting (15%) and Code Quality and Comments (15%). More details about this notebook and assignemnt are provided in your lab sheet."
   ]
  },
  {
   "cell_type": "markdown",
   "id": "3a397f6c",
   "metadata": {},
   "source": [
    "## An Overview of the Travelling Salesman Problem"
   ]
  },
  {
   "cell_type": "markdown",
   "id": "770d5880",
   "metadata": {},
   "source": [
    "In the travelling salesman problem, a salesperson wish to find the shortest path that passes through all cities s/he wishes to visit given the coordinates of a set of cities. The salesperson should visit each of the cities once only, and so:\n",
    "\n",
    "a. Each path consists all cities in the set.\n",
    "\n",
    "b. Each path visits each of the cities once only. So, none of the cities are visited more than once. "
   ]
  },
  {
   "cell_type": "markdown",
   "id": "0d5d37c8",
   "metadata": {},
   "source": [
    "## Imports"
   ]
  },
  {
   "cell_type": "code",
   "execution_count": 21,
   "id": "86227049",
   "metadata": {},
   "outputs": [],
   "source": [
    "%matplotlib inline\n",
    "\n",
    "# Please add more imports if you need them \n",
    "\n",
    "import random\n",
    "import time\n",
    "import csv\n",
    "\n",
    "import numpy as np\n",
    "import pandas as pd\n",
    "import matplotlib.pyplot as plt\n",
    "\n",
    "from pprint import pprint as print "
   ]
  },
  {
   "cell_type": "markdown",
   "id": "420ef0f6",
   "metadata": {},
   "source": [
    "## Convenience Classes"
   ]
  },
  {
   "cell_type": "markdown",
   "id": "c8335dc9",
   "metadata": {},
   "source": [
    "### City"
   ]
  },
  {
   "cell_type": "markdown",
   "id": "793d7c06",
   "metadata": {},
   "source": [
    "The City class, which represents a city, possesses the properties of the city and has functions/ methods used for calculating the distance between the city and another city. Each path, represented by a chromosome, is formed by a set of cities.   "
   ]
  },
  {
   "cell_type": "code",
   "execution_count": 22,
   "id": "6a3d4ad0",
   "metadata": {},
   "outputs": [],
   "source": [
    "class City:\n",
    "    def __init__(self, x, y):\n",
    "        self.x = x\n",
    "        self.y = y\n",
    "        \n",
    "    def distance(self, city):\n",
    "        xDis = abs(self.x - city.x)\n",
    "        yDis = abs(self.y - city.y)\n",
    "        distance = np.sqrt((xDis ** 2) + (yDis ** 2))\n",
    "        return distance\n",
    "    \n",
    "    def __repr__(self):\n",
    "        return \"(\" + str(self.x) + \",\" + str(self.y) + \")\""
   ]
  },
  {
   "cell_type": "markdown",
   "id": "17c39cd9",
   "metadata": {},
   "source": [
    "### Fitness"
   ]
  },
  {
   "cell_type": "markdown",
   "id": "d1337f65",
   "metadata": {},
   "source": [
    "The Fitness class, which represents the fitness function, possesses the properties of a path and has functions/methods used for calculating the fitness value of the path, which is based on the distance of the path. "
   ]
  },
  {
   "cell_type": "code",
   "execution_count": 23,
   "id": "b9eca58a",
   "metadata": {},
   "outputs": [],
   "source": [
    "class Fitness:\n",
    "    def __init__(self, route):\n",
    "        self.route = route\n",
    "        self.distance = None\n",
    "        self.fitness = None\n",
    "    \n",
    "    def routeDistance(self):\n",
    "        if self.distance == None:\n",
    "            pathDistance = 0.0\n",
    "            for i in range(0, len(self.route)):\n",
    "                fromCity = self.route[i]\n",
    "                toCity = None\n",
    "                if i+1 < len(self.route):\n",
    "                    toCity = self.route[i+1]\n",
    "                else:\n",
    "                    toCity = self.route[0]\n",
    "                pathDistance += fromCity.distance(toCity)\n",
    "            self.distance = pathDistance\n",
    "        return self.distance\n",
    "    \n",
    "    def routeFitness(self):\n",
    "        if self.fitness == None:\n",
    "        # Fitness function (Simple division) that uses a simple \n",
    "        # division that divides one by the distance of the path\n",
    "            self.fitness = 1 / float(self.routeDistance()) \n",
    "            # Note: You must ensure a division by zero does not occur \n",
    "        return self.fitness\n"
   ]
  },
  {
   "cell_type": "markdown",
   "id": "e9ecd81d",
   "metadata": {},
   "source": [
    "## Population Initialization  "
   ]
  },
  {
   "cell_type": "markdown",
   "id": "02544afb",
   "metadata": {},
   "source": [
    "The population initialization function (or method) performs random initialization. This creates an initial population with completely random chromosomes (or solutions). There are three functions related to population initialization. \n",
    "\n",
    "The first function is genCityList() which generates a set of cities from a file.  "
   ]
  },
  {
   "cell_type": "code",
   "execution_count": 24,
   "id": "9d39ed7e",
   "metadata": {},
   "outputs": [],
   "source": [
    "def genCityList(filename):\n",
    "   cityList = []\n",
    "\n",
    "    # TODO 1 (10 marks) - Replace the following codes that generate 10 random cities.\n",
    "    # Your new implementation must read a set of cities from the filename to be used for creating\n",
    "    # an initial population.\n",
    "\n",
    "    # Marking scheme:\n",
    "    # 7 to 10 marks:  Correct implementation.\n",
    "    # 5 to <7 marks:  Minor errors with slight effects on the fitness value.\n",
    "    # >0 to <5 marks: Major errors with significant effects on the fitness value.\n",
    "    # 0 marks:        No answer is given.\n",
    "\n",
    "    # Replacement starts here\n",
    "   city_list = []\n",
    "   with open(filename, 'r') as file:\n",
    "      # Skip the header line\n",
    "      next(file)\n",
    "      # Read each line and split the data\n",
    "      for line in file:\n",
    "         city_id, x, y = line.strip().split(', ')\n",
    "         city_list.append((int(city_id), int(x), int(y)))\n",
    "   # Generate 10 unique random cities from the list\n",
    "   unique_indices = random.sample(range(len(city_list)), 10)\n",
    "   for index in unique_indices:\n",
    "        # Create a City object and append it to cityList\n",
    "        cityList.append(City(x=city_list[index][1], y=city_list[index][2]))\n",
    "\n",
    "   return cityList\n",
    "genCityList(\"cities500.txt\")\n",
    "\n"
   ]
  },
  {
   "cell_type": "code",
   "execution_count": 26,
   "id": "d16af3f6",
   "metadata": {},
   "outputs": [
    {
     "name": "stdout",
     "output_type": "stream",
     "text": [
      "[(39,101),\n",
      " (170,154),\n",
      " (1,54),\n",
      " (17,196),\n",
      " (28,35),\n",
      " (72,14),\n",
      " (4,167),\n",
      " (146,140),\n",
      " (33,69),\n",
      " (135,119)]\n"
     ]
    }
   ],
   "source": [
    "filename = 'cities50.txt'\n",
    "print(genCityList(filename))"
   ]
  },
  {
   "cell_type": "markdown",
   "id": "e4888778",
   "metadata": {},
   "source": [
    "The second function is createRoute() which generates a random route (chromosome) from a set of City instances."
   ]
  },
  {
   "cell_type": "code",
   "execution_count": 8,
   "id": "1f9ac614",
   "metadata": {},
   "outputs": [],
   "source": [
    "def createRoute(cityList):\n",
    "    route = random.sample(cityList, len(cityList))\n",
    "    return route"
   ]
  },
  {
   "cell_type": "markdown",
   "id": "f0c11bbb",
   "metadata": {},
   "source": [
    "The third function is initialPopulation() which calls the second function repeatedly to create an initial population (a list of routes)."
   ]
  },
  {
   "cell_type": "code",
   "execution_count": 9,
   "id": "4ae07df2",
   "metadata": {},
   "outputs": [],
   "source": [
    "def initialPopulation(popSize, cityList):\n",
    "    population = []\n",
    "    for i in range(0, popSize):\n",
    "        population.append(createRoute(cityList))\n",
    "    return population"
   ]
  },
  {
   "cell_type": "markdown",
   "id": "ed5c9a1d",
   "metadata": {},
   "source": [
    "You can run the above functions using the sample runs below. To do so, simply change the cell type from Markdown to Code.\n",
    "\n",
    "Sample run 1 initializes 10 cities in cityList as follows:"
   ]
  },
  {
   "cell_type": "markdown",
   "id": "dbce56f2",
   "metadata": {},
   "source": [
    "cityList = genCityList('cities10.txt') \n",
    "print(cityList)"
   ]
  },
  {
   "cell_type": "markdown",
   "id": "00b4e341",
   "metadata": {},
   "source": [
    "Sample run 2 initializes 10 cities in cityList and creates a population with three routes as follows:"
   ]
  },
  {
   "cell_type": "markdown",
   "id": "e7f8538a",
   "metadata": {},
   "source": [
    "cityList = genCityList('cities10.txt') \n",
    "population = initialPopulation(3, cityList) \n",
    "print(population)"
   ]
  },
  {
   "cell_type": "markdown",
   "id": "f8aac59f",
   "metadata": {},
   "source": [
    "## Selection"
   ]
  },
  {
   "cell_type": "markdown",
   "id": "cb5cfd2d",
   "metadata": {},
   "source": [
    "Parents selection selects chromosomes with high fitness values from a population. Survivor selection selects chromosomes with higher fitness values to form the population of the next generation. The population size is len(population), so we have len(population) in this population. "
   ]
  },
  {
   "cell_type": "markdown",
   "id": "91040238",
   "metadata": {},
   "source": [
    "### Parent Selection\n",
    "\n",
    "There are three implementations for parent selection. The first parentSelection() performs random selection."
   ]
  },
  {
   "cell_type": "code",
   "execution_count": 10,
   "id": "3add27f7",
   "metadata": {},
   "outputs": [],
   "source": [
    "def parentSelection(population, poolSize=None):\n",
    "    if poolSize == None:\n",
    "        poolSize = len(population)\n",
    "        \n",
    "    matingPool = []\n",
    "    \n",
    "    for i in range(0, poolSize):\n",
    "        fitness = Fitness(population[i]).routeFitness()\n",
    "        matingPool.append(random.choice(population))\n",
    "      \n",
    "    return matingPool"
   ]
  },
  {
   "cell_type": "markdown",
   "id": "7d7aedb6",
   "metadata": {},
   "source": [
    "The second parentSelection() performs Tournament Selection."
   ]
  },
  {
   "cell_type": "code",
   "execution_count": 11,
   "id": "53e6ed39",
   "metadata": {},
   "outputs": [],
   "source": [
    "def parentSelection(population, poolSize=None):\n",
    "    \n",
    "    # TODO 2 (10 marks) - Replace the dummy parent selection function below with  \n",
    "    # Tournament Selection.\n",
    "      \n",
    "    # Marking scheme: \n",
    "    # 7 to 10 marks:  Correct implementation. \n",
    "    # 5 to <7 marks:  Minor errors.\n",
    "    # >0 to <5 marks: Major errors. \n",
    "    # 0 marks:        No answer is given. \n",
    "    \n",
    "    # You will need to compare the performance achieved by Random Selection, \n",
    "    # Tournament Selection, and Proportional Selection during performance evaluation \n",
    "    # later. So, you will run either Random Selection, Tournament Selection, or \n",
    "    # Proportional Selection in a simulation run.\n",
    "    \n",
    "    if poolSize == None:\n",
    "        poolSize = len(population)\n",
    "        \n",
    "    matingPool = []\n",
    "    \n",
    "    # Replacement starts here\n",
    "    matingPool = population[0:poolSize]\n",
    "    # Replacement ends here\n",
    "    \n",
    "    return matingPool"
   ]
  },
  {
   "cell_type": "markdown",
   "id": "4bb238e2",
   "metadata": {},
   "source": [
    "The third parentSelection() performs Proportional Selection."
   ]
  },
  {
   "cell_type": "code",
   "execution_count": 12,
   "id": "2ccaef4a",
   "metadata": {},
   "outputs": [],
   "source": [
    "def parentSelection(population, poolSize=None):\n",
    "    \n",
    "    # TODO 3 (10 marks) - Replace the dummy parent selection function below with  \n",
    "    # Proportional Selection.\n",
    "      \n",
    "    # Marking scheme: \n",
    "    # 7 to 10 marks:  Correct implementation. \n",
    "    # 5 to <7 marks:  Minor errors.\n",
    "    # >0 to <5 marks: Major errors. \n",
    "    # 0 marks:        No answer is given. \n",
    "    \n",
    "    # You will need to compare the performance achieved by Random Selection, \n",
    "    # Tournament Selection, and Proportional Selection during performance evaluation \n",
    "    # later. So, you will run either Random Selection, Tournament Selection, or \n",
    "    # Proportional Selection in a simulation run.\n",
    "    \n",
    "    if poolSize == None:\n",
    "        poolSize = len(population)\n",
    "        \n",
    "    matingPool = []\n",
    "    \n",
    "    # Replacement starts here\n",
    "    matingPool = population[0:poolSize]\n",
    "    # Replacement ends here\n",
    "    \n",
    "    return matingPool"
   ]
  },
  {
   "cell_type": "markdown",
   "id": "767df4e1",
   "metadata": {},
   "source": [
    "### Survival Selection"
   ]
  },
  {
   "cell_type": "code",
   "execution_count": 13,
   "id": "80f74e5a",
   "metadata": {},
   "outputs": [],
   "source": [
    "def survivorSelection(population, eliteSize):\n",
    "    \n",
    "    # TODO 4 (10 marks) - Replace the dummy survival selection function below with  \n",
    "    # Merge, Sort & Truncate.\n",
    "      \n",
    "    # Marking scheme: \n",
    "    # 7 to 10 marks:  Correct implementation. \n",
    "    # 5 to <7 marks:  Minor errors.\n",
    "    # >0 to <5 marks: Major errors. \n",
    "    # 0 marks:        No answer is given. \n",
    "    \n",
    "    elites = []\n",
    "    \n",
    "    # Replacement starts here\n",
    "    for i in range(eliteSize):\n",
    "        elites.append(population[i])\n",
    "    # Replacement ends here\n",
    "    \n",
    "    return elites"
   ]
  },
  {
   "cell_type": "markdown",
   "id": "c003d631",
   "metadata": {},
   "source": [
    "You can run the above functions using the sample runs below. To do so, simply change the cell type from Markdown to Code. \n",
    "\n",
    "Sample run 1 initializes 10 cities in cityList, creates a population with four routes, and creates a pool of parents as follows:"
   ]
  },
  {
   "cell_type": "markdown",
   "id": "cb064cc7",
   "metadata": {},
   "source": [
    "population = initialPopulation(4, genCityList('cities10.txt'))\n",
    "matingpool = parentSelection(population, 4) \n",
    "print('Initial population') \n",
    "print(population) \n",
    "print('Mating pool') \n",
    "print(matingpool)"
   ]
  },
  {
   "cell_type": "markdown",
   "id": "c4431342",
   "metadata": {},
   "source": [
    "Sample run 2 initializes 10 cities in cityList, creates a population with four routes, select an elite chromosome as follows:"
   ]
  },
  {
   "cell_type": "markdown",
   "id": "d5a0593b",
   "metadata": {},
   "source": [
    "population = initialPopulation(4, genCityList('cities10.txt'))\n",
    "elites = survivorSelection(population, 1)\n",
    "print('Initial population')\n",
    "print(population)\n",
    "print('Selected elites')\n",
    "print(elites)"
   ]
  },
  {
   "cell_type": "markdown",
   "id": "ebba82a2",
   "metadata": {},
   "source": [
    "## Crossover\n"
   ]
  },
  {
   "cell_type": "markdown",
   "id": "3c655d11",
   "metadata": {},
   "source": [
    "Crossover selects two parents, crossover the genetic materials of the parents, and produce one or more children. In the Travelling Salesman Problem, each travelling path must be valid. Each path consists all cities in the set, and each path visits each of the cities once only. So, none of the cities are visited more than once. Exchanging parts of two chromosomes tend to produce invalid paths. As an example, Parent 1 is [2 1 0 7 3 5 4 6] and Parent 2 is [6 1 0 5 2 3 4 7]. One point crossover at midpoint generates Child 1 [2 1 0 7 2 3 4 7] and Child 2 [6 1 0 5 3 5 4 6]. Both children are invalid paths.     "
   ]
  },
  {
   "cell_type": "code",
   "execution_count": 14,
   "id": "2bb0c8be",
   "metadata": {},
   "outputs": [],
   "source": [
    "def crossover(parent1, parent2):\n",
    "    \n",
    "    # TODO 5 (10 marks) - Replace the dummy crossover function below with \n",
    "    # Partially Mapped Crossover approach.\n",
    "   \n",
    "    # Marking scheme: \n",
    "    # 7 to 10 marks:  Correct implementation. \n",
    "    # 5 to <7 marks:  Minor errors.\n",
    "    # >0 to <5 marks: Major errors. \n",
    "    # 0 marks:        No answer is given. \n",
    "    \n",
    "    # Replacement starts here\n",
    "    child1 = parent1\n",
    "    child2 = parent2\n",
    "    # Replacement ends here\n",
    "    \n",
    "    return child1, child2"
   ]
  },
  {
   "cell_type": "markdown",
   "id": "48ca735c",
   "metadata": {},
   "source": [
    "Crossover selects two parents from the mating pool to produce a new generation of the same size."
   ]
  },
  {
   "cell_type": "code",
   "execution_count": 15,
   "id": "308e4680",
   "metadata": {},
   "outputs": [],
   "source": [
    "def breedPopulation(matingpool):\n",
    "    children = []\n",
    "    \n",
    "    # Choosing parents in their order of presence in the mating pool. Choosing parents\n",
    "    # in a random manner is possible. \n",
    "    \n",
    "    for i in range(1, len(matingpool), 2):\n",
    "        child1, child2 = crossover(matingpool[i-1], matingpool[i])\n",
    "        children.append(child1)\n",
    "        children.append(child2)\n",
    "    \n",
    "    return children"
   ]
  },
  {
   "cell_type": "markdown",
   "id": "2152fd9e",
   "metadata": {},
   "source": [
    "You can run the above functions using the sample run below. To do so, simply change the cell type from Markdown to Code. The sample run initializes 2 chromosomes in the population, and performs crossover among the two parents. "
   ]
  },
  {
   "cell_type": "markdown",
   "id": "7b02b58d",
   "metadata": {},
   "source": [
    "population = initialPopulation(2, genCityList('cities10.txt'))\n",
    "parent1, parent2 = population\n",
    "child1, child2 = crossover(parent1, parent2)\n",
    "print('Parents')\n",
    "print(parent1)\n",
    "print(parent2)\n",
    "print('Children')\n",
    "print(child1)\n",
    "print(child2)"
   ]
  },
  {
   "cell_type": "markdown",
   "id": "0508e984",
   "metadata": {},
   "source": [
    "## Mutation"
   ]
  },
  {
   "cell_type": "markdown",
   "id": "e741bcba",
   "metadata": {},
   "source": [
    "Mutation mutates a single chromosome to get a mutated chromosome so that genetic algorithm can converge to a shorter path quickly. In the Travelling Saleman Problem, a mutated chromosome must be a valid path. As an example, the insertion mutation randomly inserts a single gene in the [1 2 3 4 5 6 7 8 9 10] chromosome to generate the [1 2 4 5 6 7 3 8 9 10] mutated chromosome. Step 1: select a gene randomly, Step 2: insert this gene into a randomly selected location."
   ]
  },
  {
   "cell_type": "code",
   "execution_count": 16,
   "id": "fcc4c53b",
   "metadata": {},
   "outputs": [],
   "source": [
    "def mutate(route, mutationProbability):\n",
    "    \n",
    "    # TODO 6 (10 marks) - Replace the dummy mutation function below with Insertion Mutation.\n",
    "    # The dummy mutation function simply swaps a city with the city before it.  \n",
    "   \n",
    "    # Marking scheme: \n",
    "    # 7 to 10 marks:  Correct implementation. \n",
    "    # 5 to <7 marks:  Minor errors.\n",
    "    # >0 to <5 marks: Major errors. \n",
    "    # 0 marks:        No answer is given. \n",
    "     \n",
    "    mutated_route = route[:]\n",
    "    for i in range(len(route)):\n",
    "        if (random.random() < mutationProbability):\n",
    "            # mutationProbability is the probability of a gene undergoing mutation\n",
    "            \n",
    "            # Replacement starts here\n",
    "            city1 = route[i]\n",
    "            city2 = route[i-1]\n",
    "            mutated_route[i] = city2\n",
    "            mutated_route[i-1] = city1\n",
    "            # Replacement ends here\n",
    "    return mutated_route"
   ]
  },
  {
   "cell_type": "markdown",
   "id": "561658a7",
   "metadata": {},
   "source": [
    "Mutation runs over the entire population and mutates each chromosome in the population with a small mutationProbability. "
   ]
  },
  {
   "cell_type": "code",
   "execution_count": 17,
   "id": "18bcf873",
   "metadata": {},
   "outputs": [],
   "source": [
    "def mutation(population, mutationProbability):\n",
    "    mutatedPopulation = []\n",
    "    for i in range(0, len(population)):\n",
    "        mutatedIndividual = mutate(population[i], mutationProbability)\n",
    "        mutatedPopulation.append(mutatedIndividual)\n",
    "    return mutatedPopulation"
   ]
  },
  {
   "cell_type": "markdown",
   "id": "e2c7728f",
   "metadata": {},
   "source": [
    "You can run the above functions using the sample run below. To do so, simply change the cell type from Markdown to Code. The sample run initializes a route comprised of 10 cities in cityList, and then mutates it as follows:"
   ]
  },
  {
   "cell_type": "markdown",
   "id": "4b9fa051",
   "metadata": {},
   "source": [
    "route = genCityList('cities10.txt')\n",
    "mutated = mutate(route, 1)  # Give a pretty high chance for mutation\n",
    "print('Original route')\n",
    "print(route)\n",
    "print('Mutated route')\n",
    "print(mutated)"
   ]
  },
  {
   "cell_type": "markdown",
   "id": "1c0cf960",
   "metadata": {},
   "source": [
    "## Running One Generation (or Interation)"
   ]
  },
  {
   "cell_type": "markdown",
   "id": "2e4e26f5",
   "metadata": {},
   "source": [
    "Here, we run one generation of genetic algorithm. "
   ]
  },
  {
   "cell_type": "code",
   "execution_count": 18,
   "id": "57f76661",
   "metadata": {},
   "outputs": [],
   "source": [
    "def oneGeneration(population, eliteSize, mutationProbability):\n",
    "    \n",
    "    # First we preserve the elites\n",
    "    elites = survivorSelection(population, eliteSize)\n",
    "    \n",
    "    # Then we calculate what our mating pool size should be and generate\n",
    "    # the mating pool\n",
    "    poolSize = len(population) - eliteSize\n",
    "    matingpool = parentSelection(population, poolSize)\n",
    "        \n",
    "    # Then we perform crossover on the mating pool\n",
    "    children = breedPopulation(matingpool)\n",
    "    \n",
    "    # We combine the elites and children into one population\n",
    "    new_population = elites + children\n",
    "    \n",
    "    # We mutate the population\n",
    "    mutated_population = mutation(new_population, mutationProbability)\n",
    "        \n",
    "    return mutated_population"
   ]
  },
  {
   "cell_type": "markdown",
   "id": "daa87ed8",
   "metadata": {},
   "source": [
    "You can run the above functions using the sample run below. To do so, simply change the cell type from Markdown to Code. The sample run initializes a population comprised of 5 chromosomes based on 10 cities in cityList, and then run one generation (or iteration) of genetic algorithm as follows:"
   ]
  },
  {
   "cell_type": "markdown",
   "id": "0f2a347b",
   "metadata": {},
   "source": [
    "population = initialPopulation(5, genCityList('cities10.txt'))\n",
    "eliteSize = 1\n",
    "mutationProbability = 0.01\n",
    "new_population = oneGeneration(population, eliteSize, mutationProbability)\n",
    "print('Initial population')\n",
    "print(population)\n",
    "print('New population')\n",
    "print(new_population)"
   ]
  },
  {
   "cell_type": "markdown",
   "id": "500893f7",
   "metadata": {},
   "source": [
    "## Running Many Generations (or Interations) "
   ]
  },
  {
   "cell_type": "code",
   "execution_count": 19,
   "id": "cc61b752",
   "metadata": {},
   "outputs": [
    {
     "name": "stdout",
     "output_type": "stream",
     "text": [
      "'Best distance for initial population: 866.0898041943858'\n",
      "'Best distance for population in iteration 0: 866.0898041943858'\n",
      "'Best distance for population in iteration 1: 866.0898041943858'\n",
      "'Best distance for population in iteration 2: 925.4257116859612'\n",
      "'Best distance for population in iteration 3: 925.4257116859612'\n",
      "'Best distance for population in iteration 4: 969.600330929635'\n",
      "'Best distance for population in iteration 5: 1030.4434968586716'\n",
      "'Best distance for population in iteration 6: 992.2726705384285'\n",
      "'Best distance for population in iteration 7: 916.7909603262824'\n",
      "'Best distance for population in iteration 8: 916.7909603262824'\n",
      "'Best distance for population in iteration 9: 916.7909603262824'\n",
      "'Best distance for population in iteration 10: 979.567514160475'\n",
      "'Best distance for population in iteration 11: 979.567514160475'\n",
      "'Best distance for population in iteration 12: 979.567514160475'\n",
      "'Best distance for population in iteration 13: 979.567514160475'\n",
      "'Best distance for population in iteration 14: 975.6175405655608'\n",
      "'Best distance for population in iteration 15: 979.567514160475'\n",
      "'Best distance for population in iteration 16: 877.993283871935'\n",
      "'Best distance for population in iteration 17: 877.993283871935'\n",
      "'Best distance for population in iteration 18: 877.993283871935'\n",
      "'Best distance for population in iteration 19: 869.0658493428058'\n",
      "'Best distance for population in iteration 20: 877.993283871935'\n",
      "'Best distance for population in iteration 21: 877.993283871935'\n",
      "'Best distance for population in iteration 22: 877.993283871935'\n",
      "'Best distance for population in iteration 23: 877.993283871935'\n",
      "'Best distance for population in iteration 24: 877.993283871935'\n",
      "'Best distance for population in iteration 25: 877.993283871935'\n",
      "'Best distance for population in iteration 26: 877.993283871935'\n",
      "'Best distance for population in iteration 27: 877.993283871935'\n",
      "'Best distance for population in iteration 28: 885.7547883777028'\n",
      "'Best distance for population in iteration 29: 885.7547883777028'\n",
      "'Best distance for population in iteration 30: 885.7547883777028'\n",
      "'Best distance for population in iteration 31: 885.7547883777028'\n",
      "'Best distance for population in iteration 32: 885.7547883777028'\n",
      "'Best distance for population in iteration 33: 772.1022518453137'\n",
      "'Best distance for population in iteration 34: 885.7547883777028'\n",
      "'Best distance for population in iteration 35: 885.7547883777028'\n",
      "'Best distance for population in iteration 36: 885.7547883777028'\n",
      "'Best distance for population in iteration 37: 885.7547883777028'\n",
      "'Best distance for population in iteration 38: 885.7547883777028'\n",
      "'Best distance for population in iteration 39: 885.7547883777028'\n",
      "'Best distance for population in iteration 40: 885.7547883777028'\n",
      "'Best distance for population in iteration 41: 885.7547883777028'\n",
      "'Best distance for population in iteration 42: 877.993283871935'\n",
      "'Best distance for population in iteration 43: 877.993283871935'\n",
      "'Best distance for population in iteration 44: 877.993283871935'\n",
      "'Best distance for population in iteration 45: 885.7547883777028'\n",
      "'Best distance for population in iteration 46: 883.5371700527087'\n",
      "'Best distance for population in iteration 47: 885.7547883777028'\n",
      "'Best distance for population in iteration 48: 885.7547883777028'\n",
      "'Best distance for population in iteration 49: 885.7547883777028'\n",
      "'Best distance for population in iteration 50: 882.4040112846067'\n",
      "'Best distance for population in iteration 51: 882.4040112846067'\n",
      "'Best distance for population in iteration 52: 882.4040112846067'\n",
      "'Best distance for population in iteration 53: 844.1961163006922'\n",
      "'Best distance for population in iteration 54: 844.1961163006922'\n",
      "'Best distance for population in iteration 55: 844.1961163006922'\n",
      "'Best distance for population in iteration 56: 844.1961163006922'\n",
      "'Best distance for population in iteration 57: 844.1961163006922'\n",
      "'Best distance for population in iteration 58: 844.1961163006922'\n",
      "'Best distance for population in iteration 59: 844.1961163006922'\n",
      "'Best distance for population in iteration 60: 844.1961163006922'\n",
      "'Best distance for population in iteration 61: 844.1961163006922'\n",
      "'Best distance for population in iteration 62: 844.1961163006922'\n",
      "'Best distance for population in iteration 63: 844.1961163006922'\n",
      "'Best distance for population in iteration 64: 844.1961163006922'\n",
      "'Best distance for population in iteration 65: 832.853927482753'\n",
      "'Best distance for population in iteration 66: 832.853927482753'\n",
      "'Best distance for population in iteration 67: 781.4049906999074'\n",
      "'Best distance for population in iteration 68: 781.4049906999074'\n",
      "'Best distance for population in iteration 69: 781.4049906999074'\n",
      "'Best distance for population in iteration 70: 835.2202434634358'\n",
      "'Best distance for population in iteration 71: 844.1961163006922'\n",
      "'Best distance for population in iteration 72: 844.1961163006922'\n",
      "'Best distance for population in iteration 73: 844.1961163006922'\n",
      "'Best distance for population in iteration 74: 844.1961163006922'\n",
      "'Best distance for population in iteration 75: 844.1961163006922'\n",
      "'Best distance for population in iteration 76: 844.1961163006922'\n",
      "'Best distance for population in iteration 77: 844.1961163006922'\n",
      "'Best distance for population in iteration 78: 844.1961163006922'\n",
      "'Best distance for population in iteration 79: 844.1961163006922'\n",
      "'Best distance for population in iteration 80: 844.1961163006922'\n",
      "'Best distance for population in iteration 81: 844.1961163006922'\n",
      "'Best distance for population in iteration 82: 844.1961163006922'\n",
      "'Best distance for population in iteration 83: 844.1961163006922'\n",
      "'Best distance for population in iteration 84: 844.1961163006922'\n",
      "'Best distance for population in iteration 85: 844.1961163006922'\n",
      "'Best distance for population in iteration 86: 844.1961163006922'\n",
      "'Best distance for population in iteration 87: 844.1961163006922'\n",
      "'Best distance for population in iteration 88: 844.1961163006922'\n",
      "'Best distance for population in iteration 89: 844.1961163006922'\n",
      "'Best distance for population in iteration 90: 844.1961163006922'\n",
      "'Best distance for population in iteration 91: 844.1961163006922'\n",
      "'Best distance for population in iteration 92: 844.1961163006922'\n",
      "'Best distance for population in iteration 93: 844.1961163006922'\n",
      "'Best distance for population in iteration 94: 844.1961163006922'\n",
      "'Best distance for population in iteration 95: 844.1961163006922'\n",
      "'Best distance for population in iteration 96: 844.1961163006922'\n",
      "'Best distance for population in iteration 97: 844.1961163006922'\n",
      "'Best distance for population in iteration 98: 844.1961163006922'\n",
      "'Best distance for population in iteration 99: 844.1961163006922'\n",
      "('Optimal path is [(85,177), (49,143), (154,132), (175,142), (188,35), '\n",
      " '(133,61), (21,48), (25,139), (41,30), (98,58)]')\n"
     ]
    }
   ],
   "source": [
    "filename = 'cities50.txt'\n",
    "popSize = 20\n",
    "eliteSize = 5\n",
    "mutationProbability = 0.01\n",
    "iteration_limit = 100\n",
    "\n",
    "cityList = genCityList(filename)\n",
    "\n",
    "population = initialPopulation(popSize, cityList)\n",
    "distances = [Fitness(p).routeDistance() for p in population]\n",
    "min_dist = min(distances)\n",
    "print(\"Best distance for initial population: \" + str(min_dist))\n",
    "\n",
    "for i in range(iteration_limit):\n",
    "    population = oneGeneration(population, eliteSize, mutationProbability)\n",
    "    distances = [Fitness(p).routeDistance() for p in population]\n",
    "    index = np.argmin(distances)\n",
    "    best_route = population[index]\n",
    "    min_dist = min(distances)\n",
    "    print(\"Best distance for population in iteration \" + str(i) +\n",
    "          \": \" + str(min_dist))\n",
    "\n",
    "print(\"Optimal path is \" + str(best_route)) \n",
    "\n",
    "    # TODO 7 (10 marks) - Performance Evaluation. You will present the performance achieved \n",
    "    # by different parent selection function. You will compare the \n",
    "    # performance achieved by Random Selection, Tournament Selection, and Proportional Selection. \n",
    "   \n",
    "    # Marking scheme: \n",
    "    # 7 to 10 marks:  In-depth performance evaluation. Optimal routes are found. \n",
    "    # 5 to <7 marks:  Clear understanding of performance evaluation.\n",
    "    # >0 to <5 marks: Inaccurate or unclear understanding of performance evaluation. \n",
    "    # 0 marks:        No answer is given. \n",
    "    \n",
    "  "
   ]
  },
  {
   "cell_type": "code",
   "execution_count": null,
   "id": "ec332861",
   "metadata": {},
   "outputs": [],
   "source": []
  }
 ],
 "metadata": {
  "kernelspec": {
   "display_name": "Python 3 (ipykernel)",
   "language": "python",
   "name": "python3"
  },
  "language_info": {
   "codemirror_mode": {
    "name": "ipython",
    "version": 3
   },
   "file_extension": ".py",
   "mimetype": "text/x-python",
   "name": "python",
   "nbconvert_exporter": "python",
   "pygments_lexer": "ipython3",
   "version": "3.10.0"
  }
 },
 "nbformat": 4,
 "nbformat_minor": 5
}
